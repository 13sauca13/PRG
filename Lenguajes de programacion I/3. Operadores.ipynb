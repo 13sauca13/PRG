{
 "cells": [
  {
   "cell_type": "markdown",
   "id": "0ef80d40-3c2b-4f3b-8bbc-4352dc970e81",
   "metadata": {},
   "source": [
    "# Operadores booleanos\n",
    "\n",
    "or - Verdadero si uno u otro es verdadero\n",
    "\n",
    "and - Verdadero si ambos verdaderos\n",
    "\n",
    "not - contrario al valor inicial"
   ]
  },
  {
   "cell_type": "code",
   "execution_count": null,
   "id": "2b9bc962-6cf1-4a40-8aae-235957506720",
   "metadata": {},
   "outputs": [
    {
     "name": "stdout",
     "output_type": "stream",
     "text": [
      "True  -- con un operador and y mismo valor [True]\n",
      "False  -- con un operador and y diferente valor\n",
      "False  -- con un operador and y mismo valor [False]\n"
     ]
    }
   ],
   "source": [
    "x = True\n",
    "y = False\n",
    "\n",
    "print(x and x, \" -- con un operador and y mismo valor [True]\")\n",
    "print(x and y, \" -- con un operador and y diferente valor\")\n",
    "print(y and y, \" -- con un operador and y mismo valor [False]\")"
   ]
  },
  {
   "cell_type": "code",
   "execution_count": null,
   "id": "81048567-e464-490c-9dea-a26f21ee5fdd",
   "metadata": {},
   "outputs": [
    {
     "name": "stdout",
     "output_type": "stream",
     "text": [
      "5  -- con un operador or y mismo valor True\n",
      "True  -- con un operador or y diferente valor\n",
      "False  -- con un operador or y mismo valor [False]\n"
     ]
    }
   ],
   "source": [
    "print(x or x, \" -- con un operador or y mismo valor\")\n",
    "print(x or y, \" -- con un operador or y diferente valor\")\n",
    "print(y or y, \" -- con un operador or y mismo valor [False]\")"
   ]
  },
  {
   "cell_type": "code",
   "execution_count": 3,
   "id": "bd4ef9b0-35c2-493c-bfc8-62dcd35e6b87",
   "metadata": {},
   "outputs": [
    {
     "name": "stdout",
     "output_type": "stream",
     "text": [
      "False  -- contrario a True\n",
      "True  -- contrario a False\n"
     ]
    }
   ],
   "source": [
    "print(not x, \" -- contrario a True\")\n",
    "print(not y, \" -- contrario a False\")"
   ]
  },
  {
   "cell_type": "markdown",
   "id": "c16cad9c-af97-4acf-96d7-6316d8ac9f9f",
   "metadata": {},
   "source": [
    "# Operadores Lógicos\n",
    "\n",
    "**==** -- igual\n",
    "\n",
    "**>**  -- mayor que\n",
    "\n",
    "**>=** -- mayor o igual que\n",
    "\n",
    "**<**  -- menor que\n",
    "\n",
    "**<=** -- menor o igual que\n",
    "\n",
    "**!=** -- diferente\n",
    "\n",
    "**is** -- identico\n",
    "\n",
    "**is not** -- no es identico"
   ]
  },
  {
   "cell_type": "code",
   "execution_count": 4,
   "id": "32794ff6-5511-477e-b949-2a443df12718",
   "metadata": {},
   "outputs": [
    {
     "name": "stdout",
     "output_type": "stream",
     "text": [
      "True\n",
      "False\n",
      "True\n"
     ]
    }
   ],
   "source": [
    "x = 5\n",
    "y = 5\n",
    "z = 5.0\n",
    "print(x is y)\n",
    "print(x is z)\n",
    "print(x == z)"
   ]
  },
  {
   "cell_type": "markdown",
   "id": "35d7eef8-247d-46d7-8c91-43636b8b0897",
   "metadata": {},
   "source": [
    "# Operadores Aritméticos\n",
    "\n",
    "**+**&nbsp;&nbsp;&nbsp; SUMA\n",
    "\n",
    "**-**&nbsp;&nbsp;&nbsp; RESTA\n",
    "\n",
    "*\\**&nbsp;&nbsp;&nbsp; MULTIPLICACIÓN\n",
    "\n",
    "**/**&nbsp;&nbsp;&nbsp; DIVISIÓN\n",
    "\n",
    "**//**&nbsp;&nbsp;&nbsp; DIVISIÓN ENTERA\n",
    "\n",
    "**%**&nbsp;&nbsp;&nbsp; MÓDULO\n",
    "\n",
    "**\\**, pow()**&nbsp;&nbsp;&nbsp; POTENCIA\n",
    "\n",
    "**abs()**&nbsp;&nbsp;&nbsp; VALOR ABSOLUTO"
   ]
  },
  {
   "cell_type": "code",
   "execution_count": 5,
   "id": "5ecd96da-4c51-4a8b-b48e-f0f0b56e3ecd",
   "metadata": {},
   "outputs": [
    {
     "name": "stdout",
     "output_type": "stream",
     "text": [
      "9\n",
      "9\n"
     ]
    }
   ],
   "source": [
    "print(pow(3,2))\n",
    "print(3**2)"
   ]
  },
  {
   "cell_type": "code",
   "execution_count": 6,
   "id": "bc67b394-58a1-4ffb-9619-b8aec28ea6ed",
   "metadata": {},
   "outputs": [
    {
     "name": "stdout",
     "output_type": "stream",
     "text": [
      "90.24\n"
     ]
    }
   ],
   "source": [
    "print(abs(-90.24))"
   ]
  },
  {
   "cell_type": "code",
   "execution_count": null,
   "id": "7f54e87d-ff96-45fd-a066-1f706e300ae2",
   "metadata": {},
   "outputs": [],
   "source": []
  }
 ],
 "metadata": {
  "kernelspec": {
   "display_name": "Python 3.10",
   "language": "python",
   "name": "py3.10"
  },
  "language_info": {
   "codemirror_mode": {
    "name": "ipython",
    "version": 3
   },
   "file_extension": ".py",
   "mimetype": "text/x-python",
   "name": "python",
   "nbconvert_exporter": "python",
   "pygments_lexer": "ipython3",
   "version": "3.10.8"
  }
 },
 "nbformat": 4,
 "nbformat_minor": 5
}
