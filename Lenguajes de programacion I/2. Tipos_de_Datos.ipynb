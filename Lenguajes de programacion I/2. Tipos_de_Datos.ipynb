{
  "nbformat": 4,
  "nbformat_minor": 0,
  "metadata": {
    "colab": {
      "provenance": []
    },
    "kernelspec": {
      "name": "python3",
      "display_name": "Python 3"
    },
    "language_info": {
      "name": "python"
    }
  },
  "cells": [
    {
      "cell_type": "markdown",
      "source": [
        "#Conociendo Python\n",
        "\n",
        "En esta primera práctica, nos iremos familiarizando con el lenguaje Python y el entorno Jupyter"
      ],
      "metadata": {
        "id": "--pr26neo_mc"
      }
    },
    {
      "cell_type": "markdown",
      "source": [
        "##Variables y Constantes\n",
        "\n",
        "En programación, **una variable es un espacio de memoria reservado para almacenar datos** que pueden cambiar durante la ejecución de un programa. Por ejemplo, se puede declarar una variable llamada \"edad\" y asignarle un valor numérico, como 25. A medida que el programa se ejecuta, el valor de \"edad\" puede cambiar si el usuario actualiza su información personal. En python, esta asignación de valor se realiza mediante el simbolo =. Para el ejemplo anterior escrito en código, quedaría así:\n",
        "\n",
        "edad = 25\n",
        "\n",
        "Por otro lado, una constante es un valor que no cambia durante la ejecución del programa. Se utiliza para representar valores fijos o conocidos, como el valor de Pi, la velocidad de la luz, o el número de días en una semana. Una vez que se asigna un valor a una constante, no se puede cambiar durante la ejecución del programa.\n",
        "\n",
        "La mayoría de los lenguajes diferencian las variables de las constantes. en Python esto no ocurre de forma real. Aunque asignemos a una constante un valor, lo podremos modificar más adelante. Es decir, no existen variables y constantes. Para diferenciar un valor que cambia de uno que no debe cambiar, **en python se establece escribir en MAYUSCULAS las constantes y en minusculas las variables.** Tendríamos por ejemplo, para el valor de pi, quedaría así:\n",
        "\n",
        "PI = 3.141592654\n",
        "\n",
        "**Definición del nombre de una variable:**  es importante que el nombre asignado a la variable, represente el valor que va a contener. Debe empezar por una letra del alfabeto americano (a-z), o por un guión bajo (_). También hay ciertas normas que debemos considerar (más info en la PEP-8 [texto del enlace](https://ellibrodepython.com/python-pep8)):\n",
        "\n",
        "* Evitar usar l O y I, ya que pueden ser confundidas.\n",
        "* Usar _variable para especificar uso interno. \n",
        "* Se puede usar __variable para hacer privadas determinadas variables.\n",
        "\n",
        "y también recomendaciones como:\n",
        "\n",
        "* Usar guión bajo para separar palabras compuestas: variable, mi_variable\n",
        "* No incluir símbolos en la variable, usar simplemente letras, números y guiones bajos (recordar que las variables no pueden empezar por un número)."
      ],
      "metadata": {
        "id": "5UQWY5BtVwid"
      }
    },
    {
      "cell_type": "markdown",
      "source": [
        "## Tipos de datos en Python.\n",
        "\n",
        "A continuación veremos los tipos de datos nativos que nos ofrece el lenguaje.\n",
        "\n",
        "\n",
        "#### **Numéricos**\n",
        "\n",
        "Los tipos de datos numéricos en python son los ***enteros***, ***decimales*** y ***complejos***. \n",
        "\n",
        "Para diferenciar cada tipo de datos, podemos ver el formato al escribirlo:\n",
        "\n",
        "*   Los enteros se escriben de forma normal, ejemplo: 5\n",
        "*   Los decimales se escriben con un punto, ejemplo: 5.1\n",
        "*   Los números complejos los diferenciamos por su parte imaginaria, ejemplo: 1+10j\n",
        "\n",
        "También podemos trabajar con diferentes bases, como ***binarios***, ***octales*** y ***decimales***. Para ello, utilizamos un prefijo para identificarlos:\n",
        "\n",
        "* Binarios: 0b\n",
        "* Octales: 0o\n",
        "* Hexadecimales: 0x\n",
        "\n",
        "-----\n",
        "\n",
        "**Breve introducción a los comentarios en el código**\n",
        "\n",
        "Para esta primera práctica, veremos algunos comentarios en las celdas de código. Los diferenciaremos del código que se ejecuta, por que irán precedidos del símbolo #. Posteriormente en el curso veremos diferentes formas de reaizar comentarios.\n",
        "\n",
        "-----\n",
        "**Breve introducción a funciones**\n",
        "\n",
        "Las funciones, podemos imaginarlas como comandos que damos al lenguaje para que realice una función (en realidad es un agrupamiento de procesos).\n",
        "\n",
        "Para ayudarnos en esta primera práctica, veremos dos funciones del lenguaje (aunque más adelante veremos funciones al completo). Por ahora, simplemente debemos conocer que hay ***funciones que están definidas en el lenguaje*** y funciones definidas por el usuario (las que hacemos nosotros).\n",
        "\n",
        "La función print() nos permite mostrar el resultado por pantalla. Por ejemplo:"
      ],
      "metadata": {
        "id": "Zm0EmchfpWfV"
      }
    },
    {
      "cell_type": "code",
      "source": [
        "# Si escribimos el siguiente código:\n",
        "print(\"Hola mundo\")\n",
        "\n",
        "# y le damos a ejeutar, en la parte de abajo tiene que mostrar el resultado, que sería el texto Hola Mundo"
      ],
      "metadata": {
        "colab": {
          "base_uri": "https://localhost:8080/"
        },
        "id": "DznPPft9rrSV",
        "outputId": "27b74a11-916d-4dd2-b073-0f91061e01b0"
      },
      "execution_count": null,
      "outputs": [
        {
          "output_type": "stream",
          "name": "stdout",
          "text": [
            "Hola mundo\n"
          ]
        }
      ]
    },
    {
      "cell_type": "markdown",
      "source": [
        "La función type() nos permite conocer el tipo de dato de una variable, por ejemplo:"
      ],
      "metadata": {
        "id": "AyfpB0ZYr19C"
      }
    },
    {
      "cell_type": "code",
      "source": [
        "type(5)"
      ],
      "metadata": {
        "colab": {
          "base_uri": "https://localhost:8080/"
        },
        "id": "zpLmyMLgr8VE",
        "outputId": "c284a04f-47f6-4719-d416-fb1e206164ab"
      },
      "execution_count": null,
      "outputs": [
        {
          "output_type": "execute_result",
          "data": {
            "text/plain": [
              "int"
            ]
          },
          "metadata": {},
          "execution_count": 2
        }
      ]
    },
    {
      "cell_type": "code",
      "source": [
        "numero = 11    # Enteros.\n",
        "print(type(numero), numero) # en este ejemplo, hacemos que la función print imprima 2 valores (separados por la coma)\n",
        "# el primer valor que imprime es type(numero) y el segundo valor que imprime es el valor de numero.\n",
        "# Veremos que los imprime en la misma línea, separados por un espacio.\n",
        "# podríamos escribir print(type(numero)) y luego en otra línea print(numero) y obtendriamos los valores uno sobre otro."
      ],
      "metadata": {
        "colab": {
          "base_uri": "https://localhost:8080/"
        },
        "id": "86jiToZBstyT",
        "outputId": "12e09f4d-2ab0-47e6-9713-32620e62ab95"
      },
      "execution_count": null,
      "outputs": [
        {
          "output_type": "stream",
          "name": "stdout",
          "text": [
            "<class 'int'> 11\n",
            "<class 'int'> 3\n",
            "<class 'int'> 17\n",
            "<class 'float'> 11.0\n",
            "<class 'complex'> (1+10j)\n"
          ]
        }
      ]
    },
    {
      "cell_type": "code",
      "source": [
        "numero = 0b11  # Binario.\n",
        "print(type(numero), numero)"
      ],
      "metadata": {
        "id": "r9txBzKQYuUP"
      },
      "execution_count": null,
      "outputs": []
    },
    {
      "cell_type": "code",
      "source": [
        "numero = 0x11  # Hexadecimal.\n",
        "print(type(numero), numero)"
      ],
      "metadata": {
        "id": "wBus4nHZYvVP"
      },
      "execution_count": null,
      "outputs": []
    },
    {
      "cell_type": "code",
      "source": [
        "numero = 11.0  # Decimal.\n",
        "print(type(numero), numero)"
      ],
      "metadata": {
        "id": "Neb-RDwCYwap"
      },
      "execution_count": null,
      "outputs": []
    },
    {
      "cell_type": "code",
      "source": [
        "numero = 1+10j # Complejo.\n",
        "print(type(numero), numero)"
      ],
      "metadata": {
        "id": "_rg0EcGsYxvy"
      },
      "execution_count": null,
      "outputs": []
    },
    {
      "cell_type": "markdown",
      "source": [
        "### ***Booleanos.***\n",
        "\n",
        "Los tipos de datos booleanos son un tipo de dato que puede tomar uno de dos valores posibles: Verdadero (True) o Falso (False). En programación, los valores booleanos se utilizan para tomar decisiones lógicas y controlar el flujo de ejecución del programa.\n",
        "\n",
        "En Python, los valores booleanos se representan por los objetos predefinidos ***True*** o ***False***. Estos son valores de la clase bool (aquella devuelta por type) en Python.\n",
        "\n",
        "Los valores booleanos también **se pueden combinar utilizando operadores lógicos como AND (y), OR (o), y NOT (no)**. Debemos saber que una expresion and devuelve verdadero si ambas condiciones son verdaderas. Una operación or devuelve verdadero si al menos una de ellas es verdadero. La operación not, devuelve el contrario del valor negado.\n",
        "\n",
        "Estos operadores se utilizan para realizar operaciones booleanas más complejas y producir resultados que dependen de múltiples condiciones. Por ejemplo:\n",
        "\n",
        "En Python, ***True*** y ***False*** también pueden ser interpretados como tipos de datos numéricos con valor **1** y **0**.\n",
        "\n",
        "A continuación veremos como podemos manipular el estado de las variables booleanas utilizando operadores lógicos (*not, and, or*)."
      ],
      "metadata": {
        "id": "mZKseQs5vPnh"
      }
    },
    {
      "cell_type": "code",
      "source": [
        "print(1   == False)    # 1 no es 0"
      ],
      "metadata": {
        "colab": {
          "base_uri": "https://localhost:8080/"
        },
        "id": "JugD_hS-vx_a",
        "outputId": "2c04dc07-668c-426e-9f95-04c4827a8e12"
      },
      "execution_count": null,
      "outputs": [
        {
          "output_type": "stream",
          "name": "stdout",
          "text": [
            "False\n",
            "True\n",
            "2\n",
            "False\n",
            "False\n",
            "True\n"
          ]
        }
      ]
    },
    {
      "cell_type": "code",
      "source": [
        "print(0.0 == False)    # 0 sí es 0"
      ],
      "metadata": {
        "id": "wTQq_eyIY6vy"
      },
      "execution_count": null,
      "outputs": []
    },
    {
      "cell_type": "code",
      "source": [
        "print(True + True)     # 1 + 1 es 2"
      ],
      "metadata": {
        "id": "JAXqf71QY7zQ"
      },
      "execution_count": null,
      "outputs": []
    },
    {
      "cell_type": "code",
      "source": [
        "print(not True)        # El contrario de True es False"
      ],
      "metadata": {
        "id": "Jmud51_mY9Ru"
      },
      "execution_count": null,
      "outputs": []
    },
    {
      "cell_type": "code",
      "source": [
        "print(True and False)  # Operación AND"
      ],
      "metadata": {
        "id": "jlG2PgcnY-LH"
      },
      "execution_count": null,
      "outputs": []
    },
    {
      "cell_type": "code",
      "source": [
        "print(True or  False)  # Operación OR"
      ],
      "metadata": {
        "id": "oHPfzFfyY_Ee"
      },
      "execution_count": null,
      "outputs": []
    },
    {
      "cell_type": "markdown",
      "source": [
        "### ***Secuencias de caracteres o Texto.***\n",
        "El texto en Python está representado por el tipo de dato ***String***. Un string en Python es un tipo de dato que se utiliza para representar texto y se define como una secuencia de caracteres encerrados entre comillas simples o dobles. Los strings son objetos inmutables y se pueden utilizar para realizar una variedad de operaciones, incluyendo la concatenación, la división, y la búsqueda y reemplazo de subcadenas.\n",
        "\n",
        "**Los strings en Python son objetos inmutables**, esto significa que no se pueden modificar una vez que se han creado. Sin embargo, es posible crear una nueva cadena a partir de una cadena existente utilizando operaciones de cadenas como la concatenación y la división.\n",
        "\n",
        "Un string se puede definir usando comillas simples ('texto'), o comillas dobles (\"texto\"). \n",
        "\n",
        "***Extra***: Usando triple comillas simples o dobles, podrás almacenar texto que pueda contener saltos de línea. También podemos utilizar el operador \"\\\", que nos servirá para dividir en varias líneas la declaración de una variable."
      ],
      "metadata": {
        "id": "JZJEX_n_wR9E"
      }
    },
    {
      "cell_type": "code",
      "source": [
        "triple = \"\"\"Esto\n",
        "es usando\n",
        "triples comillas\"\"\"\n",
        "\n",
        "operador = \"Esto es un texto \\\n",
        "usando el operador, el cual no hace salto de línea\"\n",
        "\n",
        "print(triple)\n",
        "print(\"\")\n",
        "print(operador)"
      ],
      "metadata": {
        "colab": {
          "base_uri": "https://localhost:8080/"
        },
        "id": "TT2Ud82Bwx8-",
        "outputId": "65988ee0-6fde-4a9d-ee9d-1d3d3922289a"
      },
      "execution_count": null,
      "outputs": [
        {
          "output_type": "stream",
          "name": "stdout",
          "text": [
            "Esto\n",
            "es usando\n",
            "triples comillas\n",
            "\n",
            "Esto es un texto usando el operador, el cual no hace salto de línea\n"
          ]
        }
      ]
    },
    {
      "cell_type": "code",
      "source": [
        "texto1 = \"¡Hola\"\n",
        "\n",
        "texto2 = 'mundo!'\n",
        "\n",
        "print(texto1 + ' ' + texto2)\n",
        "\n",
        "print('-' * 5)\n",
        "\n",
        "print(texto1[0:2])\n",
        "\n",
        "print(texto1.upper())"
      ],
      "metadata": {
        "colab": {
          "base_uri": "https://localhost:8080/"
        },
        "id": "26xzNcVSxV6u",
        "outputId": "6f4ae167-e5a7-4bfe-8ff5-d5ae9de34945"
      },
      "execution_count": null,
      "outputs": [
        {
          "output_type": "stream",
          "name": "stdout",
          "text": [
            "¡Hola mundo!\n",
            "-----\n",
            "¡H\n",
            "¡HOLA\n"
          ]
        }
      ]
    }
  ]
}