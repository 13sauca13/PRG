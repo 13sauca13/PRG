{
 "cells": [
  {
   "cell_type": "markdown",
   "id": "f40c8f9b-b2c7-4a8d-a812-597f5cf38e80",
   "metadata": {},
   "source": [
    "## Modificadores de print\n",
    "\n",
    "- end = nos permite cambiar el retorno de carro introducido al final de cada print.\n",
    "- sep = nos permite modificar el espacio introducido entre los argumentos que imprimimos."
   ]
  },
  {
   "cell_type": "code",
   "execution_count": 1,
   "id": "9fac35aa-3333-469f-a2d0-f81b87100c90",
   "metadata": {},
   "outputs": [
    {
     "name": "stdout",
     "output_type": "stream",
     "text": [
      "HOLA ** MUNDO 222 HOLA ** MUNDO 222 "
     ]
    }
   ],
   "source": [
    "def test():\n",
    "    print(\"HOLA\", \"MUNDO\", sep=\" ** \", end =\" 222 \")\n",
    "    \n",
    "test()\n",
    "test()"
   ]
  }
 ],
 "metadata": {
  "kernelspec": {
   "display_name": "Python 3.10",
   "language": "python",
   "name": "py3.10"
  },
  "language_info": {
   "codemirror_mode": {
    "name": "ipython",
    "version": 3
   },
   "file_extension": ".py",
   "mimetype": "text/x-python",
   "name": "python",
   "nbconvert_exporter": "python",
   "pygments_lexer": "ipython3",
   "version": "3.10.8"
  }
 },
 "nbformat": 4,
 "nbformat_minor": 5
}
