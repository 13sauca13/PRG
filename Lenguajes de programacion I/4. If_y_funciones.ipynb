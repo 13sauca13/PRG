{
 "cells": [
  {
   "cell_type": "markdown",
   "metadata": {
    "id": "lE0uwPsPWm3I"
   },
   "source": [
    "## **Pruebas y lógica booleana**\n",
    "\n",
    "- En cada nivel, solo puede haber un IF y un ELSE. <br>\n",
    "- Podemos tener múltiples ELIF.<br>\n",
    "- ELSE y ELIF son opcionales.<br>\n",
    "- IF, ELSE y ELIF en python se escriben siempre en minúsculas.\n",
    "\n",
    "***Condición SI***\n",
    "\n",
    "if (boolean):<br>\n",
    "&nbsp;&nbsp;&nbsp;&nbsp;/*codigo*/\n",
    "\n",
    "\n",
    "***Condición SI... de lo contrario...***\n",
    "\n",
    "if (boolean):<br>\n",
    "&nbsp;&nbsp;&nbsp;&nbsp;/*codigo*/<br>\n",
    "else:<br>\n",
    "&nbsp;&nbsp;&nbsp;&nbsp;/*codigo*/\n",
    "\n",
    "**Doble condicional**\n",
    "\n",
    "if (boolean):<br>\n",
    "&nbsp;&nbsp;&nbsp;&nbsp;/*codigo*/<br>\n",
    "elif (boolean):<br>\n",
    "&nbsp;&nbsp;&nbsp;&nbsp;/*codigo*/<br>\n",
    "\n",
    "\n",
    "***Condiciones anidada***\n",
    "\n",
    "if (boolean):<br>\n",
    "&nbsp;&nbsp;&nbsp;&nbsp;/*codigo*/<br>\n",
    "elif (boolean):<br>\n",
    "&nbsp;&nbsp;&nbsp;&nbsp;/*codigo*/<br>\n",
    "elif (boolean):<br>\n",
    "&nbsp;&nbsp;&nbsp;&nbsp;/*codigo*/<br>\n",
    "else:<br>\n",
    "&nbsp;&nbsp;&nbsp;&nbsp;/*codigo*/"
   ]
  },
  {
   "cell_type": "markdown",
   "metadata": {},
   "source": [
    "## Definición de funciones\n",
    "\n",
    "Utilizamos la palabra reservada **def** para definir una función.\n",
    "\n",
    "Ejemplo:"
   ]
  },
  {
   "cell_type": "code",
   "execution_count": 4,
   "metadata": {},
   "outputs": [
    {
     "name": "stdout",
     "output_type": "stream",
     "text": [
      "15\n",
      "30\n",
      "5\n"
     ]
    }
   ],
   "source": [
    "def mifuncion(numero, numero2=1):\n",
    "    codigo = 5*numero*numero2\n",
    "    print(codigo)\n",
    "    \n",
    "mifuncion(3)\n",
    "mifuncion(2, 3)\n",
    "mifuncion(1)"
   ]
  },
  {
   "cell_type": "code",
   "execution_count": 2,
   "metadata": {},
   "outputs": [
    {
     "name": "stdout",
     "output_type": "stream",
     "text": [
      "8\n"
     ]
    }
   ],
   "source": [
    "def mifuncion2():\n",
    "    codigo = 8\n",
    "    return codigo\n",
    "\n",
    "print(mifuncion2())"
   ]
  },
  {
   "cell_type": "markdown",
   "metadata": {},
   "source": [
    "----\n",
    "Podemos incluir argumentos para recibirlos en la función:"
   ]
  },
  {
   "cell_type": "code",
   "execution_count": 3,
   "metadata": {},
   "outputs": [
    {
     "name": "stdout",
     "output_type": "stream",
     "text": [
      "10\n"
     ]
    }
   ],
   "source": [
    "def mifuncion3(argumento1, argumento2):\n",
    "    return argumento1 + argumento2\n",
    "\n",
    "print(mifuncion3(8, 2))"
   ]
  },
  {
   "cell_type": "markdown",
   "metadata": {},
   "source": [
    "----\n",
    "E incluso, podemos asignar valores por defecto:"
   ]
  },
  {
   "cell_type": "code",
   "execution_count": 4,
   "metadata": {},
   "outputs": [
    {
     "name": "stdout",
     "output_type": "stream",
     "text": [
      "6\n",
      "7\n",
      "8\n",
      "9\n"
     ]
    }
   ],
   "source": [
    "def mifuncion4(uno=1, dos=2, tres=3):\n",
    "    return uno + dos + tres\n",
    "\n",
    "print(mifuncion4())\n",
    "print(mifuncion4(2))\n",
    "print(mifuncion4(2,3))\n",
    "print(mifuncion4(2,3,4))"
   ]
  },
  {
   "cell_type": "markdown",
   "metadata": {},
   "source": [
    "----\n",
    "Podemos combinar valores por defecto y valores obligatorios. Los obligatorios al principio."
   ]
  },
  {
   "cell_type": "code",
   "execution_count": 5,
   "metadata": {},
   "outputs": [
    {
     "name": "stdout",
     "output_type": "stream",
     "text": [
      "18\n",
      "14\n"
     ]
    }
   ],
   "source": [
    "def mifuncion5(necesario, opcional=4, opcional2=6):\n",
    "    return necesario + opcional + opcional2\n",
    "\n",
    "print(mifuncion5(8))\n",
    "print(mifuncion5(8,0))"
   ]
  },
  {
   "cell_type": "markdown",
   "metadata": {},
   "source": [
    "----\n",
    "Se puede indicar el tipo de variable que se espera (esto no fuerza la variable, solo es indicativo):"
   ]
  },
  {
   "cell_type": "code",
   "execution_count": 6,
   "metadata": {},
   "outputs": [
    {
     "name": "stdout",
     "output_type": "stream",
     "text": [
      "holachao\n",
      "\n",
      "1chao\n"
     ]
    }
   ],
   "source": [
    "def funcion6(param1: int, param2: str):\n",
    "    return param1 + param2\n",
    "\n",
    "print(funcion6(\"hola\", \"chao\"))\n",
    "\n",
    "print(\"\")\n",
    "\n",
    "def funcion6(param1: int, param2: str):\n",
    "    return str(param1) + param2 #comprobar que sucede su no fuerzo param1 a tipo str\n",
    "\n",
    "print(funcion6(1, \"chao\"))"
   ]
  },
  {
   "cell_type": "markdown",
   "metadata": {},
   "source": [
    "-----\n",
    "Se puede indicar, el tipo de dato que devolvera la función"
   ]
  },
  {
   "cell_type": "code",
   "execution_count": 7,
   "metadata": {},
   "outputs": [
    {
     "name": "stdout",
     "output_type": "stream",
     "text": [
      "hola\n"
     ]
    }
   ],
   "source": [
    "def funcion7(var1:str)->str:\n",
    "    if var1=='hola':\n",
    "        return var1\n",
    "    return \"chao\"\n",
    "\n",
    "print(funcion7(\"hola\"))"
   ]
  },
  {
   "cell_type": "markdown",
   "metadata": {},
   "source": [
    "----\n",
    "También se puede usar una función que no devuelva resultados, pero que ejecute acciones:"
   ]
  },
  {
   "cell_type": "code",
   "execution_count": 8,
   "metadata": {},
   "outputs": [
    {
     "name": "stdout",
     "output_type": "stream",
     "text": [
      "HOLA MUNDO\n",
      "HOLA MUNDO\n",
      "HOLA MUNDO\n",
      "\n",
      "HOLA MUNDO\n",
      "None\n"
     ]
    }
   ],
   "source": [
    "def procedimiento():\n",
    "    print(\"HOLA MUNDO\")\n",
    "    \n",
    "procedimiento()\n",
    "procedimiento()\n",
    "procedimiento()\n",
    "print(\"\")\n",
    "print(procedimiento())"
   ]
  },
  {
   "cell_type": "markdown",
   "metadata": {},
   "source": [
    "-----\n",
    "Crear una función vacía:"
   ]
  },
  {
   "cell_type": "code",
   "execution_count": 5,
   "metadata": {},
   "outputs": [
    {
     "name": "stdout",
     "output_type": "stream",
     "text": [
      "None\n"
     ]
    }
   ],
   "source": [
    "def vacia():\n",
    "    pass\n",
    "\n",
    "print(vacia())"
   ]
  }
 ],
 "metadata": {
  "colab": {
   "provenance": []
  },
  "kernelspec": {
   "display_name": "Python 3.9",
   "language": "python",
   "name": "python3"
  },
  "language_info": {
   "codemirror_mode": {
    "name": "ipython",
    "version": 3
   },
   "file_extension": ".py",
   "mimetype": "text/x-python",
   "name": "python",
   "nbconvert_exporter": "python",
   "pygments_lexer": "ipython3",
   "version": "3.9.7"
  }
 },
 "nbformat": 4,
 "nbformat_minor": 4
}
