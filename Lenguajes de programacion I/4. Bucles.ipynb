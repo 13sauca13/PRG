{
 "cells": [
  {
   "cell_type": "markdown",
   "metadata": {
    "id": "GAj--HyTH7sl"
   },
   "source": [
    "## **Bucles**\n",
    "\n",
    "En la mayoría de los lenguajes de programación, encontraremos estructuras repetitivas (bucles). Estas estructuras nos permiten repetir una operación, las veces que necesitemos.\n",
    "\n",
    "Nosotros veremos 2 de ellas, el bucle for y el bucle while.\n",
    "\n",
    "### Bucle while\n",
    "\n",
    "Es un bucle que recibe una condición de inicio, y se repite mientras esta condición se cumpla, simplemente debemos tener cuidado de no hacer un bucle infinito\n",
    "\n",
    "while True:<br>\n",
    "&nbsp;&nbsp;&nbsp;&nbsp;print(\"Bucle infinito\") # No lo hagais en clase!\n",
    "\n",
    "Una característica interesante de estos bucles, es que podemos hacerlos en una sola línea, utilizando \";\". Veamos un ejemplo para clarificarlo:"
   ]
  },
  {
   "cell_type": "code",
   "execution_count": 1,
   "metadata": {
    "colab": {
     "base_uri": "https://localhost:8080/"
    },
    "id": "KrGSTqmePshi",
    "outputId": "85b9a8da-89bd-42c3-8584-1766e3ce12be"
   },
   "outputs": [
    {
     "name": "stdout",
     "output_type": "stream",
     "text": [
      "8\n",
      "7\n",
      "6\n",
      "5\n",
      "4\n",
      "3\n",
      "2\n",
      "1\n",
      "0\n"
     ]
    }
   ],
   "source": [
    "x = 9\n",
    "while x > 0: x-=1; print(x)\n",
    "\n",
    "# sería el equivalente de:\n",
    "while x > 0: \n",
    "  x-=1\n",
    "  print(x)\n",
    "\n",
    "# pregunta interesante, ¿Por qué solo me devuelve un bucle?"
   ]
  },
  {
   "cell_type": "markdown",
   "metadata": {
    "id": "OHFEXVfxPu_V"
   },
   "source": [
    "### Bucle for\n",
    "Se utiliza normalmente con objetos iterables (listas, tuplas, diccionarios...). Esto nos permite que las iteraciones estén acotadas desde el inicio del mismo, al tamaño del objeto iterable. Su sintáxis básica es:"
   ]
  },
  {
   "cell_type": "code",
   "execution_count": null,
   "metadata": {
    "id": "6yBTnNpOH5gr"
   },
   "outputs": [],
   "source": [
    "for <elemento> in <iterable>:\n",
    "    <código>"
   ]
  },
  {
   "cell_type": "code",
   "execution_count": 20,
   "metadata": {},
   "outputs": [
    {
     "name": "stdout",
     "output_type": "stream",
     "text": [
      "HOL\n",
      "A C\n",
      "OMO\n",
      " ES\n",
      "TAS\n"
     ]
    }
   ],
   "source": [
    "var1 = \"HOLA COMO ESTAS\"\n",
    "for i in range(0, len(var1), 3):\n",
    "    print(var1[i:i+3])"
   ]
  },
  {
   "cell_type": "markdown",
   "metadata": {
    "id": "bbzJQV7eIzye"
   },
   "source": [
    "donde elemento es la variable que recibirá cada uno de los elementos del iterable, ejecutando posteriormente el código perteneciente al bucle for.\n",
    "\n",
    "Un objeto iterable (desde el punto de vista crítico) es todo aquel que puede ser pasado como parámetro de la función iter(). Esta función devuelve un \"iterador\" que puede recorrerse elemento a elemento. Veamos un ejemplo para mayor claridad:"
   ]
  },
  {
   "cell_type": "code",
   "execution_count": null,
   "metadata": {
    "colab": {
     "base_uri": "https://localhost:8080/"
    },
    "id": "qyML21twJf-t",
    "outputId": "b2da2539-9bee-4e2c-b50c-ae2557945d48"
   },
   "outputs": [
    {
     "name": "stdout",
     "output_type": "stream",
     "text": [
      "1\n",
      "3\n",
      "7\n",
      "25\n",
      "8\n"
     ]
    }
   ],
   "source": [
    "numeros = [1, 3, 7, 25, 8]\n",
    "x = iter(numeros)\n",
    "print(next(x))\n",
    "print(next(x))\n",
    "print(next(x))\n",
    "print(next(x))\n",
    "print(next(x))"
   ]
  },
  {
   "cell_type": "markdown",
   "metadata": {
    "id": "pZopY2LMLtuM"
   },
   "source": [
    "## Range()\n",
    "El bucle for, se utiliza normalmente con la función range, que nos devuelve un iterable. Su uso básico es:"
   ]
  },
  {
   "cell_type": "code",
   "execution_count": null,
   "metadata": {
    "id": "30fs4CP2L5eX"
   },
   "outputs": [],
   "source": [
    "range(max): # Iterable de numeros enteros consecutivos, empieza en 0 y termina en max-1.\n",
    "range(min, max): # Iterable igual que el anterior, pero que comienza en min y finaliza en max-1.\n",
    "range(min, max, step): # Iterable igual que el anterior, pero que se incremente según el valor de step. "
   ]
  },
  {
   "cell_type": "code",
   "execution_count": null,
   "metadata": {
    "colab": {
     "base_uri": "https://localhost:8080/"
    },
    "id": "ixMnnfLSMaIU",
    "outputId": "775204f1-89b4-4968-c5d2-14f698237853"
   },
   "outputs": [
    {
     "name": "stdout",
     "output_type": "stream",
     "text": [
      "0\n",
      "1\n",
      "2\n",
      "---\n",
      "2\n",
      "3\n",
      "4\n",
      "5\n",
      "---\n",
      "1\n",
      "4\n",
      "7\n",
      "10\n"
     ]
    }
   ],
   "source": [
    "# Su combinación nos permite hacer bucles de forma sencilla y controlada:\n",
    "for var1 in range(3):\n",
    "  print(var1)\n",
    "\n",
    "print(\"---\")\n",
    "\n",
    "for var2 in range(2, 6):\n",
    "  print(var2)\n",
    "\n",
    "print(\"---\")\n",
    "\n",
    "for var3 in range(1, 11, 3):\n",
    "  print(var3)"
   ]
  },
  {
   "cell_type": "markdown",
   "metadata": {
    "id": "wZkAtRDtJ2px"
   },
   "source": [
    "Esta es la parte sencilla, pero nos puede surgir la duda con un diccionario. Si el diccionario tiene una clave y un valor, ¿cómo accedo a ellos?.\n",
    "\n",
    "Podemos hacerlo de diferentes formas, veamos cada una de ellas:"
   ]
  },
  {
   "cell_type": "code",
   "execution_count": null,
   "metadata": {
    "colab": {
     "base_uri": "https://localhost:8080/"
    },
    "id": "R3aYenPRKCgM",
    "outputId": "2dc1ab19-987c-425d-da9c-d750d714ceca"
   },
   "outputs": [
    {
     "name": "stdout",
     "output_type": "stream",
     "text": [
      "clave j | valor: 1\n",
      "clave a | valor: 3\n",
      "clave m | valor: 7\n",
      "clave e | valor: 9\n",
      "clave s | valor: 40\n"
     ]
    }
   ],
   "source": [
    "# Forma básica de acceso a diccionarios:\n",
    "valores = {'j': 1, 'a': 3, 'm': 7, 'e': 9, 's': 40}\n",
    "for x in valores:\n",
    "  print(\"clave\", x, end=\" | \") # accede a la clave\n",
    "  print(\"valor:\", valores[x])"
   ]
  },
  {
   "cell_type": "code",
   "execution_count": null,
   "metadata": {
    "colab": {
     "base_uri": "https://localhost:8080/"
    },
    "id": "fW3dIZ2HKzBS",
    "outputId": "f4ce1ecb-c806-4e0a-ea91-574d8f4f4cae"
   },
   "outputs": [
    {
     "name": "stdout",
     "output_type": "stream",
     "text": [
      "1\n",
      "3\n",
      "7\n",
      "9\n",
      "40\n"
     ]
    }
   ],
   "source": [
    "# Accediendo directamente a los valores\n",
    "for y in valores.values():\n",
    "  print(y)"
   ]
  },
  {
   "cell_type": "code",
   "execution_count": null,
   "metadata": {
    "colab": {
     "base_uri": "https://localhost:8080/"
    },
    "id": "VFcveFjbK-PI",
    "outputId": "76652e4b-35f4-442c-cecc-2dad1b780971"
   },
   "outputs": [
    {
     "name": "stdout",
     "output_type": "stream",
     "text": [
      "j\n",
      "a\n",
      "m\n",
      "e\n",
      "s\n"
     ]
    }
   ],
   "source": [
    "# El equivalente a values, es keys para las claves\n",
    "for z in valores.keys():\n",
    "  print(z)"
   ]
  },
  {
   "cell_type": "code",
   "execution_count": null,
   "metadata": {
    "colab": {
     "base_uri": "https://localhost:8080/"
    },
    "id": "h3Kq2GmrLLYM",
    "outputId": "9c8d3d15-1017-4638-98c7-0c79b805c9b2"
   },
   "outputs": [
    {
     "name": "stdout",
     "output_type": "stream",
     "text": [
      "<class 'dict_items'> dict_items([('j', 1), ('a', 3), ('m', 7), ('e', 9), ('s', 40)])\n"
     ]
    }
   ],
   "source": [
    "# Ahora veamos, como podría obtener ambos, mediante el uso de items:\n",
    "w = valores.items()\n",
    "print(type(w), w)"
   ]
  },
  {
   "cell_type": "code",
   "execution_count": null,
   "metadata": {
    "colab": {
     "base_uri": "https://localhost:8080/"
    },
    "id": "-XeGFOLHLXOb",
    "outputId": "8128f69b-b26a-4f9f-e6df-93050abf0196"
   },
   "outputs": [
    {
     "name": "stdout",
     "output_type": "stream",
     "text": [
      "clave: j  | valor:  1\n",
      "clave: a  | valor:  3\n",
      "clave: m  | valor:  7\n",
      "clave: e  | valor:  9\n",
      "clave: s  | valor:  40\n"
     ]
    }
   ],
   "source": [
    "# Tenemos un objeto del tipo dict_items, que nos permite hacer esto:\n",
    "for a, b in w: # recordemos que w es valores.items\n",
    "  print(\"clave:\", a, \" | valor: \", b)"
   ]
  },
  {
   "cell_type": "markdown",
   "metadata": {
    "id": "u2aIBEuvNMXS"
   },
   "source": [
    "## Break y continue\n",
    "\n",
    "Hay 2 palabras reservadas que podemos utilizar en nuestros bucles, que son la palabra continue y la palabra break.\n",
    "\n",
    "**break:** Finaliza el bucle (completamente) y sale del mismo.\n",
    "\n",
    "**continue**: Finaliza la iteracción actual del bloque, pero continúa con la siguiente iteración.\n",
    "\n",
    "Veamos 2 casos de uso, que ejemplifican su utilidad:"
   ]
  },
  {
   "cell_type": "code",
   "execution_count": null,
   "metadata": {
    "colab": {
     "base_uri": "https://localhost:8080/"
    },
    "id": "BD5yomKJNrXt",
    "outputId": "4eaf92a0-4ee4-43d1-ec28-2fdc59664dab"
   },
   "outputs": [
    {
     "name": "stdout",
     "output_type": "stream",
     "text": [
      "1\n",
      "2\n",
      "3\n",
      "elemento inválido\n"
     ]
    }
   ],
   "source": [
    "# CASO DE USO BREAK:\n",
    "# Quiero hacer un for, que cuando consiga un elemento realice una acción y se detenga:\n",
    "\n",
    "grupo = [1, 2, 3, 4, 5, 6, 9]\n",
    "for e in grupo:\n",
    "    if e == 4:\n",
    "      print(\"elemento inválido\") #Esta es mi acción\n",
    "      break\n",
    "    print(e)"
   ]
  },
  {
   "cell_type": "code",
   "execution_count": null,
   "metadata": {
    "colab": {
     "base_uri": "https://localhost:8080/"
    },
    "id": "6Pjgw6XUOEbm",
    "outputId": "c421529f-a36c-4eaf-d251-24502907094c"
   },
   "outputs": [
    {
     "name": "stdout",
     "output_type": "stream",
     "text": [
      "1\n",
      "3\n",
      "5\n",
      "7\n",
      "9\n",
      "11\n",
      "13\n",
      "15\n",
      "17\n",
      "19\n"
     ]
    }
   ],
   "source": [
    "# CASO DE USO CONTINUE:\n",
    "# Quiero hacer un bucle for, pero que no imprima los números pares\n",
    "\n",
    "for x in range(20):\n",
    "  if x%2 == 0:\n",
    "    continue\n",
    "  print(x)"
   ]
  }
 ],
 "metadata": {
  "colab": {
   "provenance": []
  },
  "kernelspec": {
   "display_name": "Python 3.9",
   "language": "python",
   "name": "python3"
  },
  "language_info": {
   "codemirror_mode": {
    "name": "ipython",
    "version": 3
   },
   "file_extension": ".py",
   "mimetype": "text/x-python",
   "name": "python",
   "nbconvert_exporter": "python",
   "pygments_lexer": "ipython3",
   "version": "3.9.7"
  }
 },
 "nbformat": 4,
 "nbformat_minor": 4
}
